{
 "cells": [
  {
   "cell_type": "markdown",
   "id": "28b3a551",
   "metadata": {
    "papermill": {
     "duration": 0.004381,
     "end_time": "2024-07-12T11:52:25.566678",
     "exception": false,
     "start_time": "2024-07-12T11:52:25.562297",
     "status": "completed"
    },
    "tags": []
   },
   "source": [
    "# Inequality In Education "
   ]
  },
  {
   "cell_type": "code",
   "execution_count": 1,
   "id": "690c9f11",
   "metadata": {
    "_cell_guid": "b1076dfc-b9ad-4769-8c92-a6c4dae69d19",
    "_uuid": "8f2839f25d086af736a60e9eeb907d3b93b6e0e5",
    "execution": {
     "iopub.execute_input": "2024-07-12T11:52:25.578345Z",
     "iopub.status.busy": "2024-07-12T11:52:25.577934Z",
     "iopub.status.idle": "2024-07-12T11:52:26.539525Z",
     "shell.execute_reply": "2024-07-12T11:52:26.538320Z"
    },
    "papermill": {
     "duration": 0.970799,
     "end_time": "2024-07-12T11:52:26.542139",
     "exception": false,
     "start_time": "2024-07-12T11:52:25.571340",
     "status": "completed"
    },
    "tags": []
   },
   "outputs": [],
   "source": [
    "# importing libraries\n",
    "import numpy as np \n",
    "import pandas as pd "
   ]
  },
  {
   "cell_type": "markdown",
   "id": "5b810327",
   "metadata": {
    "papermill": {
     "duration": 0.00379,
     "end_time": "2024-07-12T11:52:26.550101",
     "exception": false,
     "start_time": "2024-07-12T11:52:26.546311",
     "status": "completed"
    },
    "tags": []
   },
   "source": [
    "# Loading and Understanding the Dataset"
   ]
  },
  {
   "cell_type": "code",
   "execution_count": 2,
   "id": "cfcf8153",
   "metadata": {
    "execution": {
     "iopub.execute_input": "2024-07-12T11:52:26.560058Z",
     "iopub.status.busy": "2024-07-12T11:52:26.559490Z",
     "iopub.status.idle": "2024-07-12T11:52:26.615725Z",
     "shell.execute_reply": "2024-07-12T11:52:26.614467Z"
    },
    "papermill": {
     "duration": 0.064242,
     "end_time": "2024-07-12T11:52:26.618547",
     "exception": false,
     "start_time": "2024-07-12T11:52:26.554305",
     "status": "completed"
    },
    "tags": []
   },
   "outputs": [
    {
     "data": {
      "text/html": [
       "<div>\n",
       "<style scoped>\n",
       "    .dataframe tbody tr th:only-of-type {\n",
       "        vertical-align: middle;\n",
       "    }\n",
       "\n",
       "    .dataframe tbody tr th {\n",
       "        vertical-align: top;\n",
       "    }\n",
       "\n",
       "    .dataframe thead th {\n",
       "        text-align: right;\n",
       "    }\n",
       "</style>\n",
       "<table border=\"1\" class=\"dataframe\">\n",
       "  <thead>\n",
       "    <tr style=\"text-align: right;\">\n",
       "      <th></th>\n",
       "      <th>ISO3</th>\n",
       "      <th>Country</th>\n",
       "      <th>Human Development Groups</th>\n",
       "      <th>UNDP Developing Regions</th>\n",
       "      <th>HDI Rank (2021)</th>\n",
       "      <th>Inequality in Education (2010)</th>\n",
       "      <th>Inequality in Education (2011)</th>\n",
       "      <th>Inequality in Education (2012)</th>\n",
       "      <th>Inequality in Education (2013)</th>\n",
       "      <th>Inequality in Education (2014)</th>\n",
       "      <th>Inequality in Education (2015)</th>\n",
       "      <th>Inequality in Education (2016)</th>\n",
       "      <th>Inequality in Education (2017)</th>\n",
       "      <th>Inequality in Education (2018)</th>\n",
       "      <th>Inequality in Education (2019)</th>\n",
       "      <th>Inequality in Education (2020)</th>\n",
       "      <th>Inequality in Education (2021)</th>\n",
       "    </tr>\n",
       "  </thead>\n",
       "  <tbody>\n",
       "    <tr>\n",
       "      <th>0</th>\n",
       "      <td>AFG</td>\n",
       "      <td>Afghanistan</td>\n",
       "      <td>Low</td>\n",
       "      <td>SA</td>\n",
       "      <td>180.0</td>\n",
       "      <td>42.809000</td>\n",
       "      <td>44.823380</td>\n",
       "      <td>44.823380</td>\n",
       "      <td>44.823380</td>\n",
       "      <td>44.823380</td>\n",
       "      <td>45.365170</td>\n",
       "      <td>45.365170</td>\n",
       "      <td>45.365170</td>\n",
       "      <td>45.365170</td>\n",
       "      <td>45.365170</td>\n",
       "      <td>45.365170</td>\n",
       "      <td>45.365170</td>\n",
       "    </tr>\n",
       "    <tr>\n",
       "      <th>1</th>\n",
       "      <td>AGO</td>\n",
       "      <td>Angola</td>\n",
       "      <td>Medium</td>\n",
       "      <td>SSA</td>\n",
       "      <td>148.0</td>\n",
       "      <td>NaN</td>\n",
       "      <td>NaN</td>\n",
       "      <td>NaN</td>\n",
       "      <td>NaN</td>\n",
       "      <td>NaN</td>\n",
       "      <td>34.171440</td>\n",
       "      <td>34.171440</td>\n",
       "      <td>34.171440</td>\n",
       "      <td>34.171440</td>\n",
       "      <td>34.171440</td>\n",
       "      <td>34.171440</td>\n",
       "      <td>34.171440</td>\n",
       "    </tr>\n",
       "    <tr>\n",
       "      <th>2</th>\n",
       "      <td>ALB</td>\n",
       "      <td>Albania</td>\n",
       "      <td>High</td>\n",
       "      <td>ECA</td>\n",
       "      <td>67.0</td>\n",
       "      <td>11.900000</td>\n",
       "      <td>11.900000</td>\n",
       "      <td>11.900000</td>\n",
       "      <td>11.900000</td>\n",
       "      <td>11.900000</td>\n",
       "      <td>11.900000</td>\n",
       "      <td>11.900000</td>\n",
       "      <td>12.333440</td>\n",
       "      <td>12.333440</td>\n",
       "      <td>12.333440</td>\n",
       "      <td>12.333440</td>\n",
       "      <td>12.333440</td>\n",
       "    </tr>\n",
       "    <tr>\n",
       "      <th>3</th>\n",
       "      <td>AND</td>\n",
       "      <td>Andorra</td>\n",
       "      <td>Very High</td>\n",
       "      <td>NaN</td>\n",
       "      <td>40.0</td>\n",
       "      <td>15.160302</td>\n",
       "      <td>15.160302</td>\n",
       "      <td>15.160302</td>\n",
       "      <td>15.160302</td>\n",
       "      <td>9.965681</td>\n",
       "      <td>10.083815</td>\n",
       "      <td>10.008154</td>\n",
       "      <td>10.008154</td>\n",
       "      <td>10.008154</td>\n",
       "      <td>10.008154</td>\n",
       "      <td>10.008154</td>\n",
       "      <td>10.008154</td>\n",
       "    </tr>\n",
       "    <tr>\n",
       "      <th>4</th>\n",
       "      <td>ARE</td>\n",
       "      <td>United Arab Emirates</td>\n",
       "      <td>Very High</td>\n",
       "      <td>AS</td>\n",
       "      <td>26.0</td>\n",
       "      <td>NaN</td>\n",
       "      <td>NaN</td>\n",
       "      <td>NaN</td>\n",
       "      <td>NaN</td>\n",
       "      <td>NaN</td>\n",
       "      <td>NaN</td>\n",
       "      <td>18.241437</td>\n",
       "      <td>14.475335</td>\n",
       "      <td>12.634355</td>\n",
       "      <td>12.634355</td>\n",
       "      <td>12.634355</td>\n",
       "      <td>12.634355</td>\n",
       "    </tr>\n",
       "  </tbody>\n",
       "</table>\n",
       "</div>"
      ],
      "text/plain": [
       "  ISO3               Country Human Development Groups UNDP Developing Regions  \\\n",
       "0  AFG           Afghanistan                      Low                      SA   \n",
       "1  AGO                Angola                   Medium                     SSA   \n",
       "2  ALB               Albania                     High                     ECA   \n",
       "3  AND               Andorra                Very High                     NaN   \n",
       "4  ARE  United Arab Emirates                Very High                      AS   \n",
       "\n",
       "   HDI Rank (2021)  Inequality in Education (2010)  \\\n",
       "0            180.0                       42.809000   \n",
       "1            148.0                             NaN   \n",
       "2             67.0                       11.900000   \n",
       "3             40.0                       15.160302   \n",
       "4             26.0                             NaN   \n",
       "\n",
       "   Inequality in Education (2011)  Inequality in Education (2012)  \\\n",
       "0                       44.823380                       44.823380   \n",
       "1                             NaN                             NaN   \n",
       "2                       11.900000                       11.900000   \n",
       "3                       15.160302                       15.160302   \n",
       "4                             NaN                             NaN   \n",
       "\n",
       "   Inequality in Education (2013)  Inequality in Education (2014)  \\\n",
       "0                       44.823380                       44.823380   \n",
       "1                             NaN                             NaN   \n",
       "2                       11.900000                       11.900000   \n",
       "3                       15.160302                        9.965681   \n",
       "4                             NaN                             NaN   \n",
       "\n",
       "   Inequality in Education (2015)  Inequality in Education (2016)  \\\n",
       "0                       45.365170                       45.365170   \n",
       "1                       34.171440                       34.171440   \n",
       "2                       11.900000                       11.900000   \n",
       "3                       10.083815                       10.008154   \n",
       "4                             NaN                       18.241437   \n",
       "\n",
       "   Inequality in Education (2017)  Inequality in Education (2018)  \\\n",
       "0                       45.365170                       45.365170   \n",
       "1                       34.171440                       34.171440   \n",
       "2                       12.333440                       12.333440   \n",
       "3                       10.008154                       10.008154   \n",
       "4                       14.475335                       12.634355   \n",
       "\n",
       "   Inequality in Education (2019)  Inequality in Education (2020)  \\\n",
       "0                       45.365170                       45.365170   \n",
       "1                       34.171440                       34.171440   \n",
       "2                       12.333440                       12.333440   \n",
       "3                       10.008154                       10.008154   \n",
       "4                       12.634355                       12.634355   \n",
       "\n",
       "   Inequality in Education (2021)  \n",
       "0                       45.365170  \n",
       "1                       34.171440  \n",
       "2                       12.333440  \n",
       "3                       10.008154  \n",
       "4                       12.634355  "
      ]
     },
     "execution_count": 2,
     "metadata": {},
     "output_type": "execute_result"
    }
   ],
   "source": [
    "#loading the data set\n",
    "data =('/kaggle/input/inequality-in-education-around-the-world/Inequality in Education.csv')\n",
    "df = pd.read_csv(data)\n",
    "\n",
    "#Display the first few rows of the datase\n",
    "df.head()"
   ]
  },
  {
   "cell_type": "markdown",
   "id": "401d4933",
   "metadata": {
    "papermill": {
     "duration": 0.00422,
     "end_time": "2024-07-12T11:52:26.627344",
     "exception": false,
     "start_time": "2024-07-12T11:52:26.623124",
     "status": "completed"
    },
    "tags": []
   },
   "source": [
    "**The dataset contains the following columns:**\n",
    "\n",
    "* **ISO3**: ISO3 code for the Country/Territory\n",
    "* **Country**: Name of the Country/Territory\n",
    "* **Human Development Groups**: Human Development Groups\n",
    "* **UNDP Developing Regions**: UNDP Developing Regions\n",
    "* **HDI Rank (2021)**: Human Development Index Rank for 2021\n",
    "* **Inequality in Education (2010-2021)**: Inequality in Education for the years 2010 to 2021\n"
   ]
  },
  {
   "cell_type": "code",
   "execution_count": 3,
   "id": "cf07a7ce",
   "metadata": {
    "execution": {
     "iopub.execute_input": "2024-07-12T11:52:26.637726Z",
     "iopub.status.busy": "2024-07-12T11:52:26.637372Z",
     "iopub.status.idle": "2024-07-12T11:52:26.655127Z",
     "shell.execute_reply": "2024-07-12T11:52:26.654003Z"
    },
    "papermill": {
     "duration": 0.025797,
     "end_time": "2024-07-12T11:52:26.657654",
     "exception": false,
     "start_time": "2024-07-12T11:52:26.631857",
     "status": "completed"
    },
    "tags": []
   },
   "outputs": [
    {
     "data": {
      "text/plain": [
       "(ISO3                               0\n",
       " Country                            0\n",
       " Human Development Groups           4\n",
       " UNDP Developing Regions           44\n",
       " HDI Rank (2021)                    4\n",
       " Inequality in Education (2010)    58\n",
       " Inequality in Education (2011)    45\n",
       " Inequality in Education (2012)    38\n",
       " Inequality in Education (2013)    30\n",
       " Inequality in Education (2014)    27\n",
       " Inequality in Education (2015)    27\n",
       " Inequality in Education (2016)    27\n",
       " Inequality in Education (2017)    27\n",
       " Inequality in Education (2018)    23\n",
       " Inequality in Education (2019)    21\n",
       " Inequality in Education (2020)    19\n",
       " Inequality in Education (2021)    19\n",
       " dtype: int64,\n",
       " Human Development Groups\n",
       " Very High    66\n",
       " High         49\n",
       " Medium       44\n",
       " Low          32\n",
       " Name: count, dtype: int64,\n",
       " UNDP Developing Regions\n",
       " SSA    46\n",
       " LAC    33\n",
       " EAP    26\n",
       " AS     20\n",
       " ECA    17\n",
       " SA      9\n",
       " Name: count, dtype: int64)"
      ]
     },
     "execution_count": 3,
     "metadata": {},
     "output_type": "execute_result"
    }
   ],
   "source": [
    "# Basic statistics of the dataset\n",
    "\n",
    "# Number of missing values in each column\n",
    "Missing_values = df.isna().sum()\n",
    "\n",
    "# Distribution of countries across different Human Development Groups\n",
    "hdg_distribution = df['Human Development Groups'].value_counts()\n",
    "\n",
    "# Distribution of countries across different UNDP Developing Regions\n",
    "undp_regions_distribution = df['UNDP Developing Regions'].value_counts()\n",
    "\n",
    "Missing_values, hdg_distribution, undp_regions_distribution"
   ]
  },
  {
   "cell_type": "markdown",
   "id": "0145b679",
   "metadata": {
    "papermill": {
     "duration": 0.004093,
     "end_time": "2024-07-12T11:52:26.666262",
     "exception": false,
     "start_time": "2024-07-12T11:52:26.662169",
     "status": "completed"
    },
    "tags": []
   },
   "source": [
    "**The dataset has a number of missing values.**\n",
    "\n",
    "* Human Development Groups: 4 missing values\n",
    "* UNDP Developing Regions: 44 missing values\n",
    "* HDI Rank (2021): 4 missing values\n",
    "* Inequality in Education (2010-2021): 361\n",
    "* Inequality in Education number of missing values ranges from 19 to 58 for 2010 - 2021.\n",
    "\n",
    "\n",
    "**The distribution of countries across different Human Development Groups is as follows:**\n",
    "\n",
    "Very High: 66 countries\n",
    "High: 49 countries\n",
    "Medium: 44 countries\n",
    "Low: 32 countries\n",
    "\n",
    "\n",
    "The distribution of countries across different UNDP Developing Regions is as follows:\n",
    "\n",
    "* Sub-Saharan Africa (SSA): 46 countries\n",
    "* Latin America and the Caribbean (LAC): 33 countries\n",
    "* East Asia and the Pacific (EAP): 26 countries\n",
    "* Arab States (AS): 20 countries\n",
    "* Europe and Central Asia (ECA): 17 countries\n",
    "* South Asia (SA): 9 countries"
   ]
  },
  {
   "cell_type": "markdown",
   "id": "e878642b",
   "metadata": {
    "papermill": {
     "duration": 0.004163,
     "end_time": "2024-07-12T11:52:26.674872",
     "exception": false,
     "start_time": "2024-07-12T11:52:26.670709",
     "status": "completed"
    },
    "tags": []
   },
   "source": [
    "> Filling the mising values by interpolation to make the data easier for processing."
   ]
  },
  {
   "cell_type": "code",
   "execution_count": 4,
   "id": "b3a7de8e",
   "metadata": {
    "execution": {
     "iopub.execute_input": "2024-07-12T11:52:26.685221Z",
     "iopub.status.busy": "2024-07-12T11:52:26.684826Z",
     "iopub.status.idle": "2024-07-12T11:52:28.617960Z",
     "shell.execute_reply": "2024-07-12T11:52:28.616626Z"
    },
    "papermill": {
     "duration": 1.941455,
     "end_time": "2024-07-12T11:52:28.620659",
     "exception": false,
     "start_time": "2024-07-12T11:52:26.679204",
     "status": "completed"
    },
    "tags": []
   },
   "outputs": [
    {
     "name": "stderr",
     "output_type": "stream",
     "text": [
      "/opt/conda/lib/python3.10/site-packages/seaborn/_oldcore.py:1119: FutureWarning: use_inf_as_na option is deprecated and will be removed in a future version. Convert inf values to NaN before operating instead.\n",
      "  with pd.option_context('mode.use_inf_as_na', True):\n",
      "/opt/conda/lib/python3.10/site-packages/seaborn/_oldcore.py:1119: FutureWarning: use_inf_as_na option is deprecated and will be removed in a future version. Convert inf values to NaN before operating instead.\n",
      "  with pd.option_context('mode.use_inf_as_na', True):\n"
     ]
    },
    {
     "data": {
      "image/png": "[encoded data removed]",
      "text/plain": [
       "<Figure size 1200x600 with 1 Axes>"
      ]
     },
     "metadata": {},
     "output_type": "display_data"
    },
    {
     "data": {
      "text/plain": [
       "Inequality in Education (2011)    19.991823\n",
       "Inequality in Education (2012)    19.473658\n",
       "Inequality in Education (2013)    19.258472\n",
       "Inequality in Education (2014)    19.135457\n",
       "Inequality in Education (2015)    19.133751\n",
       "Inequality in Education (2016)    18.853851\n",
       "Inequality in Education (2017)    18.649140\n",
       "Inequality in Education (2018)    18.396401\n",
       "Inequality in Education (2019)    18.212993\n",
       "Inequality in Education (2020)    18.006314\n",
       "Inequality in Education (2021)    18.006314\n",
       "dtype: float64"
      ]
     },
     "execution_count": 4,
     "metadata": {},
     "output_type": "execute_result"
    }
   ],
   "source": [
    "import seaborn as sns\n",
    "import matplotlib.pyplot as plt\n",
    "\n",
    "#Average inequality of education 2010 - 2021.\n",
    "avg_inequality_education_per_year = df.iloc[:, 6:].mean()\n",
    "\n",
    "#plot\n",
    "plt.figure(figsize = (12,6))\n",
    "sns.lineplot(x = avg_inequality_education_per_year.index ,y = avg_inequality_education_per_year.values )\n",
    "plt.xticks(rotation=45)\n",
    "plt.title('Average Inequality in Education (2010-2021)')\n",
    "plt.xlabel('Year')\n",
    "plt.ylabel('Average Inequality in Education')\n",
    "plt.grid(True)\n",
    "plt.show()\n",
    "\n",
    "\n",
    "avg_inequality_education_per_year "
   ]
  },
  {
   "cell_type": "markdown",
   "id": "0ca0a86a",
   "metadata": {
    "papermill": {
     "duration": 0.005734,
     "end_time": "2024-07-12T11:52:28.632410",
     "exception": false,
     "start_time": "2024-07-12T11:52:28.626676",
     "status": "completed"
    },
    "tags": []
   },
   "source": [
    "> The table above shows the average inequality in education from 2010 to 2021. It indicates a decrease in the average inequalty in education over the period.\n",
    "\n",
    "**Here are the average inequalities in education for each year:**\n",
    "\n",
    "* 2010: 20.65\n",
    "* 2011: 19.99\n",
    "* 2012: 19.47\n",
    "* 2013: 19.26\n",
    "* 2014: 19.14\n",
    "* 2015: 19.13\n",
    "* 2016: 18.85\n",
    "* 2017: 18.65\n",
    "* 2018: 18.40\n",
    "* 2019: 18.21\n",
    "* 2020: 18.01\n",
    "* 2021: 18.01\n",
    "> This suggests that, on average, educational inequality has been decreasing globally over the past decade, although it still remains a significant issue."
   ]
  },
  {
   "cell_type": "code",
   "execution_count": 5,
   "id": "520e8449",
   "metadata": {
    "execution": {
     "iopub.execute_input": "2024-07-12T11:52:28.645840Z",
     "iopub.status.busy": "2024-07-12T11:52:28.645462Z",
     "iopub.status.idle": "2024-07-12T11:52:28.665927Z",
     "shell.execute_reply": "2024-07-12T11:52:28.664803Z"
    },
    "papermill": {
     "duration": 0.029749,
     "end_time": "2024-07-12T11:52:28.668043",
     "exception": false,
     "start_time": "2024-07-12T11:52:28.638294",
     "status": "completed"
    },
    "tags": []
   },
   "outputs": [
    {
     "data": {
      "text/plain": [
       "(          Country  Inequality in Education (2021)\n",
       " 64         Guinea                       50.124110\n",
       " 26         Bhutan                       48.226575\n",
       " 38        Comoros                       47.614380\n",
       " 155  Sierra Leone                       47.502890\n",
       " 152       Senegal                       47.135300\n",
       " 65         Gambia                       47.000050\n",
       " 191         Yemen                       46.137650\n",
       " 33    Ivory Coast                       45.609040\n",
       " 0     Afghanistan                       45.365170\n",
       " 174   Timor-Leste                       44.911790,\n",
       "                 Country  Inequality in Education (2021)\n",
       " 185          Uzbekistan                        0.550110\n",
       " 43              Czechia                        1.255630\n",
       " 163            Slovakia                        1.747920\n",
       " 133         New Zealand                        1.840132\n",
       " 30          Switzerland                        2.014570\n",
       " 54              Estonia                        2.027370\n",
       " 148  Russian Federation                        2.036000\n",
       " 164            Slovenia                        2.059650\n",
       " 139               Palau                        2.180766\n",
       " 82              Iceland                        2.200770)"
      ]
     },
     "execution_count": 5,
     "metadata": {},
     "output_type": "execute_result"
    }
   ],
   "source": [
    "# Countries with the highest and lowest Inequality in Education in 2021\n",
    "\n",
    "# Drop rows with missing values in 'Inequality in Education (2021)'\n",
    "df_clean = df.dropna(subset=['Inequality in Education (2021)'])\n",
    "\n",
    "# Top 10 countries with the highest Inequality in Education in 2021\n",
    "highest_inequality_2021 = df_clean.nlargest(10, 'Inequality in Education (2021)')\n",
    "\n",
    "# Top 10 countries with the lowest Inequality in Education in 2021\n",
    "lowest_inequality_2021 = df_clean.nsmallest(10, 'Inequality in Education (2021)')\n",
    "\n",
    "highest_inequality_2021[['Country', 'Inequality in Education (2021)']], lowest_inequality_2021[['Country', 'Inequality in Education (2021)']]"
   ]
  },
  {
   "cell_type": "markdown",
   "id": "f95449d4",
   "metadata": {
    "papermill": {
     "duration": 0.005685,
     "end_time": "2024-07-12T11:52:28.679676",
     "exception": false,
     "start_time": "2024-07-12T11:52:28.673991",
     "status": "completed"
    },
    "tags": []
   },
   "source": [
    "**The top 10 countries with the highest inequality in education in 2021 are:**\n",
    "* Guinea: 50.12\n",
    "* Bhutan: 48.23\n",
    "* Comoros: 47.61\n",
    "* Sierra Leone: 47.50\n",
    "* Senegal: 47.14\n",
    "* Gambia: 47.00\n",
    "* Yemen: 46.14\n",
    "* Ivory Coast: 45.61\n",
    "* Afghanistan: 45.37\n",
    "* Timor-Leste: 44.91\n",
    "\n",
    "**The top 10 countries with the lowest inequality in education in 2021 are:**\n",
    "* Uzbekistan: 0.55\n",
    "* Czechia: 1.26\n",
    "* Slovakia: 1.75\n",
    "* New Zealand: 1.84\n",
    "* Switzerland: 2.01\n",
    "* Estonia: 2.03\n",
    "* Russian Federation: 2.04\n",
    "* Slovenia: 2.06\n",
    "* Palau: 2.18\n",
    "* Iceland: 2.20"
   ]
  },
  {
   "cell_type": "code",
   "execution_count": 6,
   "id": "c57714a6",
   "metadata": {
    "execution": {
     "iopub.execute_input": "2024-07-12T11:52:28.693346Z",
     "iopub.status.busy": "2024-07-12T11:52:28.692951Z",
     "iopub.status.idle": "2024-07-12T11:52:29.094472Z",
     "shell.execute_reply": "2024-07-12T11:52:29.093332Z"
    },
    "papermill": {
     "duration": 0.411328,
     "end_time": "2024-07-12T11:52:29.097079",
     "exception": false,
     "start_time": "2024-07-12T11:52:28.685751",
     "status": "completed"
    },
    "tags": []
   },
   "outputs": [
    {
     "name": "stderr",
     "output_type": "stream",
     "text": [
      "/opt/conda/lib/python3.10/site-packages/seaborn/_oldcore.py:1119: FutureWarning: use_inf_as_na option is deprecated and will be removed in a future version. Convert inf values to NaN before operating instead.\n",
      "  with pd.option_context('mode.use_inf_as_na', True):\n"
     ]
    },
    {
     "data": {
      "image/png": "[encoded data removed]",
      "text/plain": [
       "<Figure size 1200x600 with 1 Axes>"
      ]
     },
     "metadata": {},
     "output_type": "display_data"
    }
   ],
   "source": [
    "# Distribution of Inequality in Education in 2021\n",
    "\n",
    "# Plot\n",
    "plt.figure(figsize=(12, 6))\n",
    "sns.histplot(df_clean['Inequality in Education (2021)'], kde=True, bins=30, color='blue')\n",
    "plt.title('Distribution of Inequality in Education (2021)')\n",
    "plt.xlabel('Inequality in Education (2021)')\n",
    "plt.ylabel('Frequency')\n",
    "plt.grid(True)\n",
    "plt.show()"
   ]
  },
  {
   "cell_type": "markdown",
   "id": "f0137522",
   "metadata": {
    "papermill": {
     "duration": 0.006274,
     "end_time": "2024-07-12T11:52:29.110049",
     "exception": false,
     "start_time": "2024-07-12T11:52:29.103775",
     "status": "completed"
    },
    "tags": []
   },
   "source": [
    "> The histogram shows the distribution of inequality in education in 2021 across all countries. The distribution is right-skewed, indicating that most countries have relatively low educational inequality, but there are a few countries with very high educational inequality."
   ]
  },
  {
   "cell_type": "code",
   "execution_count": null,
   "id": "e9187c03",
   "metadata": {
    "papermill": {
     "duration": 0.006147,
     "end_time": "2024-07-12T11:52:29.122741",
     "exception": false,
     "start_time": "2024-07-12T11:52:29.116594",
     "status": "completed"
    },
    "tags": []
   },
   "outputs": [],
   "source": []
  },
  {
   "cell_type": "markdown",
   "id": "453ae1a7",
   "metadata": {
    "papermill": {
     "duration": 0.006179,
     "end_time": "2024-07-12T11:52:29.135438",
     "exception": false,
     "start_time": "2024-07-12T11:52:29.129259",
     "status": "completed"
    },
    "tags": []
   },
   "source": []
  }
 ],
 "metadata": {
  "kaggle": {
   "accelerator": "none",
   "dataSources": [
    {
     "datasetId": 3631362,
     "sourceId": 6311636,
     "sourceType": "datasetVersion"
    }
   ],
   "dockerImageVersionId": 30746,
   "isGpuEnabled": false,
   "isInternetEnabled": true,
   "language": "python",
   "sourceType": "notebook"
  },
  "kernelspec": {
   "display_name": "Python 3",
   "language": "python",
   "name": "python3"
  },
  "language_info": {
   "codemirror_mode": {
    "name": "ipython",
    "version": 3
   },
   "file_extension": ".py",
   "mimetype": "text/x-python",
   "name": "python",
   "nbconvert_exporter": "python",
   "pygments_lexer": "ipython3",
   "version": "3.10.13"
  },
  "papermill": {
   "default_parameters": {},
   "duration": 7.121269,
   "end_time": "2024-07-12T11:52:29.764121",
   "environment_variables": {},
   "exception": null,
   "input_path": "__notebook__.ipynb",
   "output_path": "__notebook__.ipynb",
   "parameters": {},
   "start_time": "2024-07-12T11:52:22.642852",
   "version": "2.5.0"
  }
 },
 "nbformat": 4,
 "nbformat_minor": 5
}
